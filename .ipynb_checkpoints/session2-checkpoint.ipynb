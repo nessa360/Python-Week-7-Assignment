{
 "cells": [
  {
   "cell_type": "code",
   "execution_count": 1,
   "id": "760a7a6e-421a-4520-8a72-edfa2d8c41b5",
   "metadata": {},
   "outputs": [
    {
     "name": "stdout",
     "output_type": "stream",
     "text": [
      "    First Name  Country      Gender Academic Level\n",
      "0    abdikhafar   Kenya        male  UnderGraduate\n",
      "1           plp   Kenya  non_binary            NaN\n",
      "2      milicent   Kenya      female  UnderGraduate\n",
      "3      jeremiah   Kenya        male  UnderGraduate\n",
      "4          emma   Kenya      female        Diploma\n",
      "..          ...     ...         ...            ...\n",
      "348      curtis   Kenya        male      secondary\n",
      "349      lameck   Kenya        male     HighSchool\n",
      "350    anderson   Kenya        male            NaN\n",
      "351      hedmon   Kenya        male  UnderGraduate\n",
      "352     bernard   Kenya        male        Diploma\n",
      "\n",
      "[353 rows x 4 columns]\n"
     ]
    }
   ],
   "source": [
    "import pandas as pd\n",
    "\n",
    "data = pd.read_csv('todays_data.csv')  # Correctly reading the CSV file\n",
    "print(data)"
   ]
  },
  {
   "cell_type": "code",
   "execution_count": null,
   "id": "4b5f047c-4308-42aa-9773-806b6aec6fb2",
   "metadata": {},
   "outputs": [],
   "source": []
  }
 ],
 "metadata": {
  "kernelspec": {
   "display_name": "anaconda-panel-2023.05-py310",
   "language": "python",
   "name": "conda-env-anaconda-panel-2023.05-py310-py"
  },
  "language_info": {
   "codemirror_mode": {
    "name": "ipython",
    "version": 3
   },
   "file_extension": ".py",
   "mimetype": "text/x-python",
   "name": "python",
   "nbconvert_exporter": "python",
   "pygments_lexer": "ipython3",
   "version": "3.11.5"
  }
 },
 "nbformat": 4,
 "nbformat_minor": 5
}
