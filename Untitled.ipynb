{
 "cells": [
  {
   "cell_type": "code",
   "execution_count": null,
   "id": "1d044de1-7bef-431c-b913-654bfb773dee",
   "metadata": {},
   "outputs": [],
   "source": [
    "# Control flow example for grading student marks\n",
    "# This will ask the user for input and grade the student's performance\n",
    "\n",
    "# Prompt the user for student marks\n",
    "marks = int(input(\"Enter the student's marks (0-100): \"))\n",
    "\n",
    "# Grading system based on the marks\n",
    "if marks > 70:\n",
    "    print(\"Grade: Distinction 🏆\")\n",
    "elif marks >= 60:\n",
    "    print(\"Grade: Credit 🎖️\")\n",
    "elif marks >= 50:\n",
    "    print(\"Grade: Pass 👍\")\n",
    "else:\n",
    "    print(\"Grade: Fail ❌\")"
   ]
  },
  {
   "cell_type": "code",
   "execution_count": 1,
   "id": "83f0d22c-6735-4c1f-9641-c944b882c6e6",
   "metadata": {},
   "outputs": [
    {
     "data": {
      "text/plain": [
       "89"
      ]
     },
     "execution_count": 1,
     "metadata": {},
     "output_type": "execute_result"
    }
   ],
   "source": [
    "89"
   ]
  },
  {
   "cell_type": "code",
   "execution_count": 3,
   "id": "2ee4b146-beea-410a-b8fd-a9cbfcdbe556",
   "metadata": {},
   "outputs": [
    {
     "data": {
      "text/plain": [
       "40"
      ]
     },
     "execution_count": 3,
     "metadata": {},
     "output_type": "execute_result"
    }
   ],
   "source": [
    "40"
   ]
  },
  {
   "cell_type": "code",
   "execution_count": null,
   "id": "7e8611dc-d7e3-47ce-8a00-de9c75b81725",
   "metadata": {},
   "outputs": [],
   "source": []
  },
  {
   "cell_type": "code",
   "execution_count": null,
   "id": "3c038f08-f402-4b7f-9629-be2f7bb7fc90",
   "metadata": {},
   "outputs": [],
   "source": []
  },
  {
   "cell_type": "code",
   "execution_count": 6,
   "id": "7c6cd3fe-648b-4892-b56a-d7aed1924005",
   "metadata": {},
   "outputs": [
    {
     "name": "stdout",
     "output_type": "stream",
     "text": [
      "\n",
      "Student: John Doe\n",
      "Score: 75\n",
      "Grade: C\n",
      "Status: PASSED\n",
      "\n",
      "\n",
      "Student: Jane Smith\n",
      "Score: 45\n",
      "Grade: F\n",
      "Status: FAILED\n",
      "\n"
     ]
    }
   ],
   "source": [
    "def grade_student(student_name, score):\n",
    "    # Define passing score threshold\n",
    "    passing_score = 50\n",
    "    \n",
    "    # Check if the score is valid (between 0 and 100)\n",
    "    if score < 0 or score > 100:\n",
    "        return \"Invalid score. Please enter a score between 0 and 100.\"\n",
    "    \n",
    "    # Determine letter grade\n",
    "    if score >= 90:\n",
    "        letter_grade = 'A'\n",
    "    elif score >= 80:\n",
    "        letter_grade = 'B'\n",
    "    elif score >= 70:\n",
    "        letter_grade = 'C'\n",
    "    elif score >= 60:\n",
    "        letter_grade = 'D'\n",
    "    else:\n",
    "        letter_grade = 'F'\n",
    "    \n",
    "    # Determine if student passed or failed\n",
    "    status = \"PASSED\" if score >= passing_score else \"FAILED\"\n",
    "    \n",
    "    # Create and return the result\n",
    "    result = f\"\"\"\n",
    "Student: {student_name}\n",
    "Score: {score}\n",
    "Grade: {letter_grade}\n",
    "Status: {status}\n",
    "\"\"\"\n",
    "    return result\n",
    "\n",
    "# Example usage\n",
    "print(grade_student(\"John Doe\", 75))\n",
    "print(grade_student(\"Jane Smith\", 45))"
   ]
  }
 ],
 "metadata": {
  "kernelspec": {
   "display_name": "anaconda-2024.02-py310",
   "language": "python",
   "name": "conda-env-anaconda-2024.02-py310-py"
  },
  "language_info": {
   "codemirror_mode": {
    "name": "ipython",
    "version": 3
   },
   "file_extension": ".py",
   "mimetype": "text/x-python",
   "name": "python",
   "nbconvert_exporter": "python",
   "pygments_lexer": "ipython3",
   "version": "3.10.14"
  }
 },
 "nbformat": 4,
 "nbformat_minor": 5
}
